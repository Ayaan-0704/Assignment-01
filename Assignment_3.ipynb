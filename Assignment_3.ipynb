{
  "nbformat": 4,
  "nbformat_minor": 0,
  "metadata": {
    "colab": {
      "provenance": []
    },
    "kernelspec": {
      "name": "python3",
      "display_name": "Python 3"
    },
    "language_info": {
      "name": "python"
    }
  },
  "cells": [
    {
      "cell_type": "code",
      "execution_count": null,
      "metadata": {
        "colab": {
          "base_uri": "https://localhost:8080/"
        },
        "id": "Fv6iVrWHxGVM",
        "outputId": "36386898-06a3-46f6-ad2d-16d3e5e7dec0"
      },
      "outputs": [
        {
          "output_type": "stream",
          "name": "stdout",
          "text": [
            "Probability of Heads: 0.5833333333333334\n",
            "Probability of Tails: 0.4166666666666667\n",
            "Probability of having disease given positive test: 0.16666666666666669\n",
            "f(x) = 28\n",
            "f'(x) = 20\n",
            "Updated x: -1.0\n"
          ]
        }
      ],
      "source": [
        "\n",
        "\n",
        "\n",
        "total_flips = 60\n",
        "heads = 35\n",
        "tails = 25\n",
        "\n",
        "p_heads = heads / total_flips\n",
        "p_tails = tails / total_flips\n",
        "\n",
        "print(\"Probability of Heads:\", p_heads)\n",
        "print(\"Probability of Tails:\", p_tails)\n",
        "\n",
        "\n",
        "p_disease = 0.01\n",
        "p_positive_given_disease = 0.99\n",
        "p_positive_given_no_disease = 0.05\n",
        "p_no_disease = 1 - p_disease\n",
        "\n",
        "p_positive = (p_positive_given_disease * p_disease) + \\\n",
        "             (p_positive_given_no_disease * p_no_disease)\n",
        "\n",
        "p_disease_given_positive = (p_positive_given_disease * p_disease) / p_positive\n",
        "\n",
        "print(\"Probability of having disease given positive test:\", p_disease_given_positive )\n",
        "\n",
        "\n",
        "\n",
        "\n",
        "def f(x):\n",
        "    return 3*x**2 + 2*x - 5\n",
        "\n",
        "def derivative_f(x):\n",
        "    return 6*x + 2\n",
        "\n",
        "x_val = 3\n",
        "print(\"f(x) =\", f(x_val))\n",
        "print(\"f'(x) =\", derivative_f(x_val))\n",
        "x = 3.0\n",
        "learning_rate = 0.2\n",
        "\n",
        "gradient = derivative_f(x)\n",
        "x_new = x - learning_rate * gradient\n",
        "\n",
        "print(\"Updated x:\", x_new)\n",
        "\n",
        "\n"
      ]
    }
  ]
}